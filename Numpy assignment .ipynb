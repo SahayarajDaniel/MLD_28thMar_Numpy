{
 "cells": [
  {
   "cell_type": "markdown",
   "metadata": {},
   "source": [
    "Problem Statement 1:"
   ]
  },
  {
   "cell_type": "markdown",
   "metadata": {},
   "source": [
    "\n",
    " Write a function so that the columns of the output matrix are powers of the input \n",
    " vector. \n",
    " \n",
    "The order of the powers is determined by the increasing boolean argument. Specifically, when increasing is False, the i-th output column is the input vector raised element-wise to the power of N - i - 1. \n",
    " \n",
    " \n",
    "HINT: Such a matrix with a geometric progression in each row is named for AlexandreTheophile Vandermonde. "
   ]
  },
  {
   "cell_type": "code",
   "execution_count": 1,
   "metadata": {},
   "outputs": [],
   "source": [
    "import numpy as np"
   ]
  },
  {
   "cell_type": "code",
   "execution_count": 2,
   "metadata": {},
   "outputs": [],
   "source": [
    "#vander_matrix_generator function\n",
    "def vander_matrix_generator(ipvector, n, increasing):\n",
    "    \n",
    "    if not increasing:\n",
    "        op_matx = np.array([x**(n-1-i) for x in ipvector for i in range(n)]).reshape(ipvector.size,n)\n",
    "    elif increasing:\n",
    "        op_matx = np.array([x**i for x in ipvector for i in range(n)]).reshape(ipvector.size,n)\n",
    "    \n",
    "    return op_matx"
   ]
  },
  {
   "cell_type": "code",
   "execution_count": 3,
   "metadata": {},
   "outputs": [
    {
     "name": "stdout",
     "output_type": "stream",
     "text": [
      "Enter the input vector : 1,2,3,4,5\n",
      "Number of columns in output matrix : 4\n",
      "\n",
      "Vander matrix of the input array in decreasing order of powers:\n",
      " [[  1   1   1   1]\n",
      " [  8   4   2   1]\n",
      " [ 27   9   3   1]\n",
      " [ 64  16   4   1]\n",
      " [125  25   5   1]] \n",
      "\n",
      "Vander matrix of the input array in increasing order of powers:\n",
      " [[  1   1   1   1]\n",
      " [  1   2   4   8]\n",
      " [  1   3   9  27]\n",
      " [  1   4  16  64]\n",
      " [  1   5  25 125]] \n",
      "\n"
     ]
    }
   ],
   "source": [
    "#Getting inputs from User\n",
    "ip_vector = input(\"Enter the input vector : \")\n",
    "input_vector = np.fromstring(ip_vector, dtype=int, sep=',')\n",
    "op_col_no = int(input(\"Number of columns in output matrix : \"))\n",
    "\n",
    "#Computing Vander Matrix from Inputs received in both increasing and decresing order\n",
    "op_matrix_dec_order = vander_matrix_generator(input_vector, op_col_no, False)\n",
    "op_matrix_inc_order = vander_matrix_generator(input_vector, op_col_no, True)\n",
    "\n",
    "#Printing the output\n",
    "print(\"\\nVander matrix of the input array in decreasing order of powers:\\n\",op_matrix_dec_order,\"\\n\")\n",
    "print(\"Vander matrix of the input array in increasing order of powers:\\n\",op_matrix_inc_order,\"\\n\")"
   ]
  },
  {
   "cell_type": "markdown",
   "metadata": {},
   "source": [
    "Problem Statement 2: "
   ]
  },
  {
   "cell_type": "markdown",
   "metadata": {},
   "source": [
    "\n",
    " \n",
    "Given a sequence of n values x1, x2, ..., xn and a window size k>0, the k-th moving average of the given sequence is defined as follows: \n",
    " \n",
    "The moving average sequence has n-k+1 elements as shown below. \n",
    " \n",
    "The moving averages with k=4 of a ten-value sequence (n=10) is shown below \n",
    " \n",
    "i 1  2  3  4  5  6  7  8  9 10  ===== == == == == == == == == == ==  Input 10 20 30 40 50 60 70 80 90 100  y1      25 = (10+20+30+40)/4  y2      35 = (20+30+40+50)/4  y3      45 = (30+40+50+60)/4  y4 55 = (40+50+60+70)/4 y5 65 = (50+60+70+80)/4 y6 75 = (60+70+80+90)/4 y7 85 = (70+80+90+100)/4 \n",
    " \n",
    " \n",
    "Thus, the moving average sequence has n-k+1=10-4+1=7 values. "
   ]
  },
  {
   "cell_type": "code",
   "execution_count": null,
   "metadata": {},
   "outputs": [],
   "source": []
  },
  {
   "cell_type": "code",
   "execution_count": null,
   "metadata": {},
   "outputs": [],
   "source": [
    "'''ip = input(\"Enter the sequence : \")\n",
    "input_seq = np.fromstring(ip, dtype=int, sep=',')\n",
    "\n",
    "k = int(input(\"Enter a value for k, k being less than the number of elements in input sequence : \"))\n",
    "\n",
    "avg =[]\n",
    "sum = 0\n",
    "\n",
    "for x in range(0, (len(input_seq)-k+1)):\n",
    "    for y in range(x, (x+k)):\n",
    "        sum = sum+input_seq[y]\n",
    "        a = sum/k\n",
    "    sum=0\n",
    "    avg.append(a)\n",
    "\n",
    "print(avg)\n",
    "'''"
   ]
  },
  {
   "cell_type": "code",
   "execution_count": null,
   "metadata": {},
   "outputs": [],
   "source": []
  },
  {
   "cell_type": "code",
   "execution_count": 4,
   "metadata": {},
   "outputs": [],
   "source": [
    "def moving_avg(ip,k):\n",
    "    #calculating the lenght of the input sequence n\n",
    "    ip_len = ip.shape[0]\n",
    "    \n",
    "    #Output array shape with n-k+1\n",
    "    op_array = np.zeros(ip_len-k+1)\n",
    "    \n",
    "    for i in range(k, ip_len+1):\n",
    "        op_array[i-k] = ip[i-k:i].mean()\n",
    "        \n",
    "    return op_array    \n",
    "    "
   ]
  },
  {
   "cell_type": "code",
   "execution_count": 5,
   "metadata": {},
   "outputs": [
    {
     "name": "stdout",
     "output_type": "stream",
     "text": [
      "Enter the sequence : 10,20,30,40,50,60,70,80,90,100\n",
      "Enter a value for k, k being less than the number of elements in input sequence : 4\n",
      "Moving Average of the sequence with k value = 4 is : [25. 35. 45. 55. 65. 75. 85.]\n"
     ]
    }
   ],
   "source": [
    "ip_seq = input(\"Enter the sequence : \")\n",
    "input_seq = np.fromstring(ip_seq, dtype=int, sep=',')\n",
    "\n",
    "k = int(input(\"Enter a value for k, k being less than the number of elements in input sequence : \"))\n",
    "\n",
    "ma = moving_avg(input_seq, k)\n",
    "\n",
    "print(\"Moving Average of the sequence with k value = {} is : {}\" .format(k, ma))"
   ]
  }
 ],
 "metadata": {
  "kernelspec": {
   "display_name": "Python 3",
   "language": "python",
   "name": "python3"
  },
  "language_info": {
   "codemirror_mode": {
    "name": "ipython",
    "version": 3
   },
   "file_extension": ".py",
   "mimetype": "text/x-python",
   "name": "python",
   "nbconvert_exporter": "python",
   "pygments_lexer": "ipython3",
   "version": "3.7.1"
  }
 },
 "nbformat": 4,
 "nbformat_minor": 2
}
